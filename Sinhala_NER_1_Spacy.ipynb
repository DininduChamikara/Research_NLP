{
  "nbformat": 4,
  "nbformat_minor": 0,
  "metadata": {
    "colab": {
      "provenance": [],
      "mount_file_id": "1GusKiDrgFJBMgm0bAU0En0LkevsC_xY1",
      "authorship_tag": "ABX9TyMETchQIGimEqpWx/uz5dss",
      "include_colab_link": true
    },
    "kernelspec": {
      "name": "python3",
      "display_name": "Python 3"
    },
    "language_info": {
      "name": "python"
    }
  },
  "cells": [
    {
      "cell_type": "markdown",
      "metadata": {
        "id": "view-in-github",
        "colab_type": "text"
      },
      "source": [
        "<a href=\"https://colab.research.google.com/github/DininduChamikara/Research_NLP/blob/main/Sinhala_NER_1_Spacy.ipynb\" target=\"_parent\"><img src=\"https://colab.research.google.com/assets/colab-badge.svg\" alt=\"Open In Colab\"/></a>"
      ]
    },
    {
      "cell_type": "code",
      "execution_count": 1,
      "metadata": {
        "id": "pnMcAPyyZW3J"
      },
      "outputs": [],
      "source": [
        "import json"
      ]
    },
    {
      "cell_type": "code",
      "source": [
        "with open('/content/drive/MyDrive/Research Project/annotations_v1.0.json', 'r') as f:\n",
        "  data = json.load(f)"
      ],
      "metadata": {
        "id": "ewRvG3WHZ3Zq"
      },
      "execution_count": 2,
      "outputs": []
    },
    {
      "cell_type": "code",
      "source": [
        "data['classes']"
      ],
      "metadata": {
        "colab": {
          "base_uri": "https://localhost:8080/"
        },
        "id": "oeXPsUsaa77E",
        "outputId": "93c6b0ae-458e-4163-a15e-02d62471441b"
      },
      "execution_count": 7,
      "outputs": [
        {
          "output_type": "execute_result",
          "data": {
            "text/plain": [
              "['LOCATION', 'PERSON', 'ORGANIZATION', 'DATE', 'TIME']"
            ]
          },
          "metadata": {},
          "execution_count": 7
        }
      ]
    },
    {
      "cell_type": "code",
      "source": [
        "data['annotations'][0][0]"
      ],
      "metadata": {
        "colab": {
          "base_uri": "https://localhost:8080/",
          "height": 53
        },
        "id": "99QXv1w5bFy-",
        "outputId": "908fbd1e-07ed-4f32-e7ff-56ab4c6509b4"
      },
      "execution_count": 10,
      "outputs": [
        {
          "output_type": "execute_result",
          "data": {
            "text/plain": [
              "'ආසියානු ක්\\u200dරිකට් ශුර ශ්\\u200dරී ලංකා කණ්ඩායම සහ සත්කාරක ඉන්දීය කණ්ඩායම අතර 20/20 ක්\\u200dරිකට් තරගාවලියේ 3 වැනි සහ අවසන් 20/20 ක්\\u200dරිකට් තරගය ලකුණු 91කින් ජයගනිමින් ඉන්දියාව තරගාවලියේ ජය හිමි කර ගනු ලැබීය.\\r'"
            ],
            "application/vnd.google.colaboratory.intrinsic+json": {
              "type": "string"
            }
          },
          "metadata": {},
          "execution_count": 10
        }
      ]
    },
    {
      "cell_type": "code",
      "source": [
        "data['annotations'][0][1]"
      ],
      "metadata": {
        "colab": {
          "base_uri": "https://localhost:8080/"
        },
        "id": "NWeexxp1bqkt",
        "outputId": "7972fa70-ec8b-476f-81ae-3f31088a3c23"
      },
      "execution_count": 11,
      "outputs": [
        {
          "output_type": "execute_result",
          "data": {
            "text/plain": [
              "{'entities': [[0, 7, 'LOCATION'],\n",
              "  [21, 31, 'LOCATION'],\n",
              "  [51, 57, 'LOCATION'],\n",
              "  [154, 162, 'LOCATION']]}"
            ]
          },
          "metadata": {},
          "execution_count": 11
        }
      ]
    },
    {
      "cell_type": "code",
      "source": [
        "data['annotations'][0][1]['entities']"
      ],
      "metadata": {
        "colab": {
          "base_uri": "https://localhost:8080/"
        },
        "id": "6pBWfvOlcELW",
        "outputId": "4c39d609-1a2d-4170-ade7-1d99bb68e63b"
      },
      "execution_count": 12,
      "outputs": [
        {
          "output_type": "execute_result",
          "data": {
            "text/plain": [
              "[[0, 7, 'LOCATION'],\n",
              " [21, 31, 'LOCATION'],\n",
              " [51, 57, 'LOCATION'],\n",
              " [154, 162, 'LOCATION']]"
            ]
          },
          "metadata": {},
          "execution_count": 12
        }
      ]
    },
    {
      "cell_type": "code",
      "source": [
        "data['annotations'][0][0][0:7]"
      ],
      "metadata": {
        "colab": {
          "base_uri": "https://localhost:8080/",
          "height": 36
        },
        "id": "UIBN3gtvdsmd",
        "outputId": "4b978dcb-adcb-4efb-fb3a-9bbf35004e3c"
      },
      "execution_count": 15,
      "outputs": [
        {
          "output_type": "execute_result",
          "data": {
            "text/plain": [
              "'ආසියානු'"
            ],
            "application/vnd.google.colaboratory.intrinsic+json": {
              "type": "string"
            }
          },
          "metadata": {},
          "execution_count": 15
        }
      ]
    },
    {
      "cell_type": "code",
      "source": [
        "import spacy\n",
        "\n",
        "from spacy.tokens import DocBin\n",
        "from tqdm import tqdm\n",
        "\n",
        "nlp = spacy.blank('si') # load a new spacy model\n",
        "doc_bin = DocBin()"
      ],
      "metadata": {
        "id": "p4itKjrZeSZO"
      },
      "execution_count": 30,
      "outputs": []
    },
    {
      "cell_type": "code",
      "source": [
        "from tqdm.gui import tqdm\n",
        "from spacy.util import filter_spans\n",
        "\n",
        "for training_example in tqdm(data['annotations']):\n",
        "  text = training_example[0]\n",
        "  labels = training_example[1]['entities']\n",
        "  doc = nlp.make_doc(text)\n",
        "  ents = []\n",
        "  for start, end, label in labels:\n",
        "    span = doc.char_span(start, end, label=label, alignment_mode=\"contract\")\n",
        "    if span is None:\n",
        "      print(\"Skipping entry\")\n",
        "    else:\n",
        "      ents.append(span)\n",
        "  filtered_ents = filter_spans(ents)\n",
        "  doc.ents = filtered_ents\n",
        "  doc_bin.add(doc)\n",
        "\n",
        "doc_bin.to_disk(\"train.spacy\")\n",
        "\n",
        "\n"
      ],
      "metadata": {
        "colab": {
          "base_uri": "https://localhost:8080/",
          "height": 305
        },
        "id": "JOU2Cc9Cfuqx",
        "outputId": "f639ea35-b913-4f78-9f01-e684cbf835fa"
      },
      "execution_count": 31,
      "outputs": [
        {
          "output_type": "stream",
          "name": "stderr",
          "text": [
            "<ipython-input-31-493ef8f7c5eb>:4: TqdmExperimentalWarning: GUI is experimental/alpha\n",
            "  for training_example in tqdm(data['annotations']):\n"
          ]
        },
        {
          "output_type": "display_data",
          "data": {
            "text/plain": [
              "<Figure size 900x220 with 1 Axes>"
            ],
            "image/png": "[encoded data removed]"
          },
          "metadata": {}
        }
      ]
    },
    {
      "cell_type": "code",
      "source": [
        "!python -m spacy init fill-config base_config.cfg config.cfg"
      ],
      "metadata": {
        "colab": {
          "base_uri": "https://localhost:8080/"
        },
        "id": "o3N-Bby4s35_",
        "outputId": "f640b5dc-5a6b-46ef-abb9-731b3fe4e1ee"
      },
      "execution_count": 32,
      "outputs": [
        {
          "output_type": "stream",
          "name": "stdout",
          "text": [
            "2023-09-23 07:23:29.495932: W tensorflow/compiler/tf2tensorrt/utils/py_utils.cc:38] TF-TRT Warning: Could not find TensorRT\n",
            "\u001b[38;5;2m✔ Auto-filled config with all values\u001b[0m\n",
            "\u001b[38;5;2m✔ Saved config\u001b[0m\n",
            "config.cfg\n",
            "You can now add your data and train your pipeline:\n",
            "python -m spacy train config.cfg --paths.train ./train.spacy --paths.dev ./dev.spacy\n"
          ]
        }
      ]
    },
    {
      "cell_type": "code",
      "source": [
        "!python -m spacy train config.cfg --output ./ --paths.train ./train.spacy --paths.dev ./train.spacy"
      ],
      "metadata": {
        "colab": {
          "base_uri": "https://localhost:8080/"
        },
        "id": "kayxsGkOxQfc",
        "outputId": "8a3c959d-2315-47e0-fae0-56499a951d1d"
      },
      "execution_count": 35,
      "outputs": [
        {
          "output_type": "stream",
          "name": "stdout",
          "text": [
            "2023-09-23 07:54:27.989539: W tensorflow/compiler/tf2tensorrt/utils/py_utils.cc:38] TF-TRT Warning: Could not find TensorRT\n",
            "\u001b[38;5;4mℹ Saving to output directory: .\u001b[0m\n",
            "\u001b[38;5;4mℹ Using CPU\u001b[0m\n",
            "\u001b[1m\n",
            "=========================== Initializing pipeline ===========================\u001b[0m\n",
            "\u001b[38;5;2m✔ Initialized pipeline\u001b[0m\n",
            "\u001b[1m\n",
            "============================= Training pipeline =============================\u001b[0m\n",
            "\u001b[38;5;4mℹ Pipeline: ['tok2vec', 'ner']\u001b[0m\n",
            "\u001b[38;5;4mℹ Initial learn rate: 0.001\u001b[0m\n",
            "E    #       LOSS TOK2VEC  LOSS NER  ENTS_F  ENTS_P  ENTS_R  SCORE \n",
            "---  ------  ------------  --------  ------  ------  ------  ------\n",
            "  0       0          0.00     56.45    0.44    0.42    0.46    0.00\n",
            "  0     200        108.72   2044.60   38.57   43.65   34.55    0.39\n",
            "  1     400         75.60   1526.95   46.07   47.92   44.35    0.46\n",
            "  2     600         93.15   1281.07   74.69   76.51   72.96    0.75\n",
            "  3     800        246.57   1201.86   83.82   85.83   81.91    0.84\n",
            "  5    1000         79.37    940.07   86.86   87.38   86.35    0.87\n",
            "  7    1200        304.83    797.19   91.58   92.65   90.53    0.92\n",
            "  9    1400         87.40    536.38   97.61   97.83   97.39    0.98\n",
            "\u001b[38;5;2m✔ Saved pipeline to output directory\u001b[0m\n",
            "model-last\n"
          ]
        }
      ]
    },
    {
      "cell_type": "code",
      "source": [
        "nlp_ner = spacy.load(\"model-best\")"
      ],
      "metadata": {
        "id": "jDxOWCJpyRgm"
      },
      "execution_count": 36,
      "outputs": []
    },
    {
      "cell_type": "code",
      "source": [
        "from spacy import displacy"
      ],
      "metadata": {
        "id": "TRLSjvgKIC3O"
      },
      "execution_count": null,
      "outputs": []
    },
    {
      "cell_type": "code",
      "source": [
        "doc = nlp_ner(\"කර්ණාටක ප්‍රාන්තයේ අනපේක්ෂිත මැතිවරණ ප්‍රතිපලයෙන් පසු ඉන්දීය ජාතික කොන්ග්‍රසය නැවතත් ජයග්‍රාහි මාවතකට අවතීර්ණ වෙමින් සිටිනවා.\")\n",
        "doc2 = nlp_ner(\"පසුගිය සතියේ නිමාවට පත් වුණු ශ්‍රී ලංකා-අයර්ලන්ත දෙවන ටෙස්ට් තරගයේ දී වාර්තා කිහිපයක් අලුත් වුණා. ඒ අතුරින් කාගේත් අවධානය දිනා ගත්තේ ප්‍රභාත් ජයසූරිය බිහි කළ ලෝක වාර්තාව යි. එහි දී ඔහු අඩුම ටෙස්ට් තරග ප්‍රමාණයකින් කඩුලු 50 කඩඉම වෙත පැමිණි දඟපන්දු යවන්නා ලෙස වාර්තා අතරට එකතු වුණා.\")\n",
        "\n",
        "colors = {\"LOCATION\": \"#F67DE3\", \"PERSON\": \"#7DF609\", \"ORGANIZATION\": \"#A6E22D\", \"DATE\": \"#FFFF00\", \"TIME\": \"#800000\"}\n",
        "options = {\"colors\": colors}\n",
        "\n",
        "spacy.displacy.render(doc, style=\"ent\", options= options, jupyter=True)\n",
        "spacy.displacy.render(doc2, style=\"ent\", options= options, jupyter=True)"
      ],
      "metadata": {
        "colab": {
          "base_uri": "https://localhost:8080/",
          "height": 157
        },
        "id": "4UshwVfvFmh0",
        "outputId": "eeb2fa28-92a8-4f74-e622-450544e7f62a"
      },
      "execution_count": 39,
      "outputs": [
        {
          "output_type": "display_data",
          "data": {
            "text/plain": [
              "<IPython.core.display.HTML object>"
            ],
            "text/html": [
              "<span class=\"tex2jax_ignore\"><div class=\"entities\" style=\"line-height: 2.5; direction: ltr\">කර්ණාටක ප්‍රාන්තයේ අනපේක්ෂිත මැතිවරණ ප්‍රතිපලයෙන් පසු \n",
              "<mark class=\"entity\" style=\"background: #F67DE3; padding: 0.45em 0.6em; margin: 0 0.25em; line-height: 1; border-radius: 0.35em;\">\n",
              "    ඉන්දීය\n",
              "    <span style=\"font-size: 0.8em; font-weight: bold; line-height: 1; border-radius: 0.35em; vertical-align: middle; margin-left: 0.5rem\">LOCATION</span>\n",
              "</mark>\n",
              " ජාතික කොන්ග්‍රසය නැවතත් ජයග්‍රාහි මාවතකට අවතීර්ණ වෙමින් සිටිනවා.</div></span>"
            ]
          },
          "metadata": {}
        },
        {
          "output_type": "display_data",
          "data": {
            "text/plain": [
              "<IPython.core.display.HTML object>"
            ],
            "text/html": [
              "<span class=\"tex2jax_ignore\"><div class=\"entities\" style=\"line-height: 2.5; direction: ltr\">\n",
              "<mark class=\"entity\" style=\"background: #FFFF00; padding: 0.45em 0.6em; margin: 0 0.25em; line-height: 1; border-radius: 0.35em;\">\n",
              "    පසුගිය සතියේ\n",
              "    <span style=\"font-size: 0.8em; font-weight: bold; line-height: 1; border-radius: 0.35em; vertical-align: middle; margin-left: 0.5rem\">DATE</span>\n",
              "</mark>\n",
              " නිමාවට පත් වුණු \n",
              "<mark class=\"entity\" style=\"background: #F67DE3; padding: 0.45em 0.6em; margin: 0 0.25em; line-height: 1; border-radius: 0.35em;\">\n",
              "    ශ්‍රී ලංකා\n",
              "    <span style=\"font-size: 0.8em; font-weight: bold; line-height: 1; border-radius: 0.35em; vertical-align: middle; margin-left: 0.5rem\">LOCATION</span>\n",
              "</mark>\n",
              "-අයර්ලන්ත දෙවන \n",
              "<mark class=\"entity\" style=\"background: #F67DE3; padding: 0.45em 0.6em; margin: 0 0.25em; line-height: 1; border-radius: 0.35em;\">\n",
              "    ටෙස්ට් තරගයේ දී\n",
              "    <span style=\"font-size: 0.8em; font-weight: bold; line-height: 1; border-radius: 0.35em; vertical-align: middle; margin-left: 0.5rem\">LOCATION</span>\n",
              "</mark>\n",
              " වාර්තා කිහිපයක් අලුත් වුණා. ඒ අතුරින් කාගේත් අවධානය දිනා ගත්තේ ප්‍රභාත් ජයසූරිය බිහි කළ ලෝක වාර්තාව යි. එහි දී ඔහු අඩුම ටෙස්ට් තරග ප්‍රමාණයකින් කඩුලු 50 කඩඉම වෙත පැමිණි දඟපන්දු යවන්නා ලෙස වාර්තා අතරට එකතු වුණා.</div></span>"
            ]
          },
          "metadata": {}
        }
      ]
    },
    {
      "cell_type": "code",
      "source": [],
      "metadata": {
        "id": "p4i2M5n4I26Z"
      },
      "execution_count": null,
      "outputs": []
    }
  ]
}